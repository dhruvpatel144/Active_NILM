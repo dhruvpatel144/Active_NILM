{
 "cells": [
  {
   "cell_type": "code",
   "execution_count": 1,
   "metadata": {},
   "outputs": [],
   "source": [
    "import os\n",
    "os.environ['CUDA_VISIBLE_DEVICES'] = str(1)"
   ]
  },
  {
   "cell_type": "code",
   "execution_count": 2,
   "metadata": {},
   "outputs": [],
   "source": [
    "appliance= 'refrigerator'\n",
    "start = 6\n",
    "end = 8"
   ]
  },
  {
   "cell_type": "code",
   "execution_count": 3,
   "metadata": {},
   "outputs": [
    {
     "name": "stderr",
     "output_type": "stream",
     "text": [
      "2023-05-08 08:35:43.355266: W tensorflow/compiler/tf2tensorrt/utils/py_utils.cc:38] TF-TRT Warning: Could not find TensorRT\n"
     ]
    }
   ],
   "source": [
    "import tensorflow_probability.substrates.jax as tfp\n",
    "import jax\n",
    "import optax\n",
    "from functools import partial\n",
    "import seaborn as sns\n",
    "import tensorflow as tf\n",
    "dist = tfp.distributions\n",
    "import pandas as pd\n",
    "import numpy as np\n",
    "import matplotlib.pyplot as plt\n",
    "from sklearn.preprocessing import StandardScaler\n",
    "import scipy.stats as st\n",
    "import random\n",
    "from dataloader import *\n",
    "from utilities import *\n",
    "from model import *\n",
    "from retrain_fun import *\n",
    "random.seed(0)\n",
    "np.random.seed(0)\n",
    "jax.random.PRNGKey(0)\n",
    "os.environ[\"XLA_FLAGS\"] = \"--xla_gpu_deterministic_reductions --xla_gpu_autotune_level=2\"\n",
    "os.environ['TF_CUDNN_DETERMINISTIC']='1'\n"
   ]
  },
  {
   "cell_type": "code",
   "execution_count": 4,
   "metadata": {},
   "outputs": [],
   "source": [
    "data_aggregated, houses = data_preprocess()"
   ]
  },
  {
   "cell_type": "code",
   "execution_count": 5,
   "metadata": {},
   "outputs": [],
   "source": [
    "train_list_furnace = [[2361, 7719, 9019, 2335, 7951]]\n",
    "test_list_furnace = [[4373, 7901, 3456, 3538, 2818]]\n",
    "pool_list_furnace=[]\n",
    "for i in range(len(train_list_furnace)):\n",
    "    pool = [j for j in houses if j not in train_list_furnace[i]+test_list_furnace[i]] #[1,2,3,3]\n",
    "    pool_list_furnace.append(pool) #pool list = [[1,2,3,3]]\n",
    "\n",
    "train_list_clotheswasher = [[2361, 7719, 9019, 2335, 7951]]\n",
    "test_list_clotheswasher = [[4373, 7901, 3456, 3538, 2818]]\n",
    "pool_list_clotheswasher=[]\n",
    "for i in range(len(train_list_clotheswasher)):\n",
    "    pool = [j for j in houses if j not in train_list_clotheswasher[i]+test_list_clotheswasher[i]]\n",
    "    pool_list_clotheswasher.append(pool)\n",
    "\n",
    "train_list_dishwasher = [[2361, 7719, 9019, 2335, 7951]]\n",
    "test_list_dishwasher = [[4373, 7901, 3456, 3538, 2818]]\n",
    "pool_list_dishwasher=[]\n",
    "for i in range(len(train_list_dishwasher)):\n",
    "    pool = [j for j in houses if j not in train_list_dishwasher[i]+test_list_dishwasher[i]]\n",
    "    pool_list_dishwasher.append(pool)\n",
    "\n",
    "train_list_refrigerator =  [[2361, 7719, 9019, 2335, 7951]]\n",
    "test_list_refrigerator = [[4373, 7901, 3456, 3538, 2818]]\n",
    "pool_list_refrigerator=[]\n",
    "for i in range(len(train_list_refrigerator)):\n",
    "    pool = [j for j in houses if j not in train_list_refrigerator[i]+test_list_refrigerator[i]]\n",
    "    pool_list_refrigerator.append(pool)\n",
    "\n",
    "\n",
    "train_list_air = [[2361, 7719, 9019, 2335, 7951]]\n",
    "test_list_air = [[4373, 7901, 3456, 3538, 2818]]\n",
    "pool_list_air=[]\n",
    "for i in range(len(train_list_air)):\n",
    "    pool = [j for j in houses if j not in train_list_air[i]+test_list_air[i]]\n",
    "    pool_list_air.append(pool)\n"
   ]
  },
  {
   "cell_type": "code",
   "execution_count": 6,
   "metadata": {},
   "outputs": [],
   "source": [
    "all_appliance_train_lists = {\n",
    "    'air':train_list_air, 'furnace':train_list_furnace,'dishwasher':train_list_dishwasher, 'refrigerator':train_list_refrigerator, 'clotheswasher':train_list_clotheswasher\n",
    "}\n",
    "all_appliance_test_lists = {\n",
    "    'air':test_list_air, 'furnace':test_list_furnace,'dishwasher':test_list_dishwasher, 'refrigerator':test_list_refrigerator, 'clotheswasher':test_list_clotheswasher\n",
    "}\n",
    "all_appliance_pool_lists = {\n",
    "    'air':pool_list_air, 'furnace':pool_list_furnace,'dishwasher':pool_list_dishwasher, 'refrigerator':pool_list_refrigerator, 'clotheswasher':pool_list_clotheswasher\n",
    "}"
   ]
  },
  {
   "cell_type": "code",
   "execution_count": 7,
   "metadata": {},
   "outputs": [],
   "source": [
    "random_picks = {'furnace':[[8156, 661, 7800, 8386, 8565, 5746, 9278, 7536, 1642, 9160],\n",
    " [7800, 9160, 8565, 661, 1642, 9278, 8156, 7536, 5746, 8386],\n",
    " [8565, 9160, 8386, 661, 5746, 7536, 7800, 1642, 9278, 8156],\n",
    " [7800, 7536, 661, 8386, 9278, 1642, 8565, 5746, 9160, 8156],\n",
    " [7536, 7800, 8156, 9278, 661, 5746, 8386, 8565, 9160, 1642],\n",
    " [661, 8156, 9278, 7800, 8386, 7536, 9160, 1642, 5746, 8565],\n",
    " [661, 1642, 8386, 9160, 9278, 5746, 7536, 8156, 8565, 7800],\n",
    " [7800, 9278, 1642, 5746, 7536, 8156, 9160, 8565, 8386, 661],\n",
    " [5746, 661, 9160, 8156, 9278, 8565, 7536, 8386, 1642, 7800],\n",
    " [7800, 8565, 8156, 8386, 7536, 9278, 661, 1642, 5746, 9160]],\n",
    " 'clotheswasher_og':[[8156, 661, 7800, 8386, 8565, 5746, 9278, 7536, 1642, 9160],\n",
    " [7800, 9160, 8565, 661, 1642, 9278, 8156, 7536, 5746, 8386],\n",
    " [8565, 9160, 8386, 661, 5746, 7536, 7800, 1642, 9278, 8156],\n",
    " [7800, 7536, 661, 8386, 9278, 1642, 8565, 5746, 9160, 8156],\n",
    " [7536, 7800, 8156, 9278, 661, 5746, 8386, 8565, 9160, 1642],\n",
    " [661, 8156, 9278, 7800, 8386, 7536, 9160, 1642, 5746, 8565],\n",
    " [661, 1642, 8386, 9160, 9278, 5746, 7536, 8156, 8565, 7800],\n",
    " [7800, 9278, 1642, 5746, 7536, 8156, 9160, 8565, 8386, 661],\n",
    " [5746, 661, 9160, 8156, 9278, 8565, 7536, 8386, 1642, 7800],\n",
    " [7800, 8565, 8156, 8386, 7536, 9278, 661, 1642, 5746, 9160]],\n",
    " 'clotheswasher':[[8156, 661, 7800, 8386, 8565, 5746, 9278, 7536, 1642, 9160],\n",
    " [7800, 9160, 8565, 661, 1642, 9278, 8156, 7536, 5746, 8386],\n",
    " [8565, 9160, 8386, 661, 5746, 7536, 7800, 1642, 9278, 8156],\n",
    " [7800, 7536, 661, 8386, 9278, 1642, 8565, 5746, 9160, 8156],\n",
    " [7536, 7800, 8156, 9278, 661, 5746, 8386, 8565, 9160, 1642],\n",
    " [661, 8156, 9278, 7800, 8386, 7536, 9160, 1642, 5746, 8565],\n",
    " [661, 1642, 8386, 9160, 9278, 5746, 7536, 8156, 8565, 7800],\n",
    " [7800, 9278, 1642, 5746, 7536, 8156, 9160, 8565, 8386, 661],\n",
    " [5746, 661, 9160, 8156, 9278, 8565, 7536, 8386, 1642, 7800],\n",
    " [7800, 8565, 8156, 8386, 7536, 9278, 661, 1642, 5746, 9160]]\n",
    " , \n",
    " 'refrigerator':[[8156, 661, 7800, 8386, 8565, 5746, 9278, 7536, 1642, 9160],\n",
    " [7800, 9160, 8565, 661, 1642, 9278, 8156, 7536, 5746, 8386],\n",
    " [8565, 9160, 8386, 661, 5746, 7536, 7800, 1642, 9278, 8156],\n",
    " [7800, 7536, 661, 8386, 9278, 1642, 8565, 5746, 9160, 8156],\n",
    " [7536, 7800, 8156, 9278, 661, 5746, 8386, 8565, 9160, 1642],\n",
    " [661, 8156, 9278, 7800, 8386, 7536, 9160, 1642, 5746, 8565],\n",
    " [661, 1642, 8386, 9160, 9278, 5746, 7536, 8156, 8565, 7800],\n",
    " [7800, 9278, 1642, 5746, 7536, 8156, 9160, 8565, 8386, 661],\n",
    " [5746, 661, 9160, 8156, 9278, 8565, 7536, 8386, 1642, 7800],\n",
    " [7800, 8565, 8156, 8386, 7536, 9278, 661, 1642, 5746, 9160]], \n",
    " 'dishwasher':[[8156, 661, 7800, 8386, 8565, 5746, 9278, 7536, 1642, 9160],\n",
    " [7800, 9160, 8565, 661, 1642, 9278, 8156, 7536, 5746, 8386],\n",
    " [8565, 9160, 8386, 661, 5746, 7536, 7800, 1642, 9278, 8156],\n",
    " [7800, 7536, 661, 8386, 9278, 1642, 8565, 5746, 9160, 8156],\n",
    " [7536, 7800, 8156, 9278, 661, 5746, 8386, 8565, 9160, 1642],\n",
    " [661, 8156, 9278, 7800, 8386, 7536, 9160, 1642, 5746, 8565],\n",
    " [661, 1642, 8386, 9160, 9278, 5746, 7536, 8156, 8565, 7800],\n",
    " [7800, 9278, 1642, 5746, 7536, 8156, 9160, 8565, 8386, 661],\n",
    " [5746, 661, 9160, 8156, 9278, 8565, 7536, 8386, 1642, 7800],\n",
    " [7800, 8565, 8156, 8386, 7536, 9278, 661, 1642, 5746, 9160]], \n",
    " 'air': [[8156, 661, 7800, 8386, 8565, 5746, 9278, 7536, 1642, 9160],\n",
    " [7800, 9160, 8565, 661, 1642, 9278, 8156, 7536, 5746, 8386],\n",
    " [8565, 9160, 8386, 661, 5746, 7536, 7800, 1642, 9278, 8156],\n",
    " [7800, 7536, 661, 8386, 9278, 1642, 8565, 5746, 9160, 8156],\n",
    " [7536, 7800, 8156, 9278, 661, 5746, 8386, 8565, 9160, 1642],\n",
    " [661, 8156, 9278, 7800, 8386, 7536, 9160, 1642, 5746, 8565],\n",
    " [661, 1642, 8386, 9160, 9278, 5746, 7536, 8156, 8565, 7800],\n",
    " [7800, 9278, 1642, 5746, 7536, 8156, 9160, 8565, 8386, 661],\n",
    " [5746, 661, 9160, 8156, 9278, 8565, 7536, 8386, 1642, 7800],\n",
    " [7800, 8565, 8156, 8386, 7536, 9278, 661, 1642, 5746, 9160]]\n",
    "}"
   ]
  },
  {
   "cell_type": "code",
   "execution_count": 8,
   "metadata": {},
   "outputs": [
    {
     "name": "stdout",
     "output_type": "stream",
     "text": [
      "STARTING FOR refrigerator, FOR ITERATIONS - 6 to 8\n",
      "############################################Random iteration number#################################### : 7\n",
      "I am pool houses picck [5746, 8565, 9278, 8156, 8386, 9160, 661, 1642, 7536, 7800]\n",
      "-------------------------------------------Iteration No:----------------------------------------- -> 6.0\n",
      "RMSE : 74.6309 MAE  : 44.3787 NLL : 6.1706\n",
      "I am random house id = 661\n",
      "I am pool houses [5746, 8565, 9278, 8156, 8386, 9160, 661, 1642, 7536, 7800]\n",
      "(array([6]),)\n",
      "[6]\n",
      "6\n",
      "-------------------------------------------Iteration No:----------------------------------------- -> 6.1\n"
     ]
    },
    {
     "name": "stderr",
     "output_type": "stream",
     "text": [
      "/home/dhruv.patel/final_active/pos/retrain_fun.py:201: FutureWarning: The frame.append method is deprecated and will be removed from pandas in a future version. Use pandas.concat instead.\n",
      "  train = train.append(new_df)\n"
     ]
    },
    {
     "name": "stdout",
     "output_type": "stream",
     "text": [
      "Train houses are\n",
      "[7719 9019 2335 2361 7951  661]\n",
      "(113214, 99)\n"
     ]
    },
    {
     "name": "stderr",
     "output_type": "stream",
     "text": [
      "2023-05-08 08:36:50.461442: W external/org_tensorflow/tensorflow/compiler/xla/service/gpu/gpu_conv_algorithm_picker.cc:825] None of the algorithms provided by cuDNN heuristics worked; trying fallback algorithms.  Conv: (f32[113214,50,99]{2,1,0}, u8[0]{0}) custom-call(f32[113214,50,99]{2,1,0}, f32[50,50,5]{2,1,0}), window={size=5 pad=2_2}, dim_labels=bf0_oi0->bf0, custom_call_target=\"__cudnn$convForward\", backend_config=\"{\\\"conv_result_scale\\\":1,\\\"activation_mode\\\":\\\"0\\\",\\\"side_input_scale\\\":0}\"\n"
     ]
    },
    {
     "name": "stdout",
     "output_type": "stream",
     "text": [
      "RMSE : 84.7843 MAE  : 63.3008 NLL : 5.8793\n",
      "-------------------------------------------Iteration No:----------------------------------------- -> 6.2\n"
     ]
    },
    {
     "name": "stderr",
     "output_type": "stream",
     "text": [
      "/home/dhruv.patel/final_active/pos/retrain_fun.py:201: FutureWarning: The frame.append method is deprecated and will be removed from pandas in a future version. Use pandas.concat instead.\n",
      "  train = train.append(new_df)\n"
     ]
    },
    {
     "name": "stdout",
     "output_type": "stream",
     "text": [
      "Train houses are\n",
      "[7719 9019 2335 2361 7951  661 1642]\n",
      "(163613, 99)\n"
     ]
    },
    {
     "name": "stderr",
     "output_type": "stream",
     "text": [
      "2023-05-08 08:37:09.661940: W external/org_tensorflow/tensorflow/compiler/xla/service/gpu/gpu_conv_algorithm_picker.cc:825] None of the algorithms provided by cuDNN heuristics worked; trying fallback algorithms.  Conv: (f32[163613,40,99]{2,1,0}, u8[0]{0}) custom-call(f32[163613,30,104]{2,1,0}, f32[40,30,6]{2,1,0}), window={size=6}, dim_labels=bf0_oi0->bf0, custom_call_target=\"__cudnn$convForward\", backend_config=\"{\\\"conv_result_scale\\\":1,\\\"activation_mode\\\":\\\"0\\\",\\\"side_input_scale\\\":0}\"\n",
      "2023-05-08 08:37:10.780703: W external/org_tensorflow/tensorflow/compiler/xla/service/gpu/gpu_conv_algorithm_picker.cc:825] None of the algorithms provided by cuDNN heuristics worked; trying fallback algorithms.  Conv: (f32[163613,50,99]{2,1,0}, u8[0]{0}) custom-call(f32[163613,40,99]{2,1,0}, f32[50,40,5]{2,1,0}), window={size=5 pad=2_2}, dim_labels=bf0_oi0->bf0, custom_call_target=\"__cudnn$convForward\", backend_config=\"{\\\"conv_result_scale\\\":1,\\\"activation_mode\\\":\\\"0\\\",\\\"side_input_scale\\\":0}\"\n",
      "2023-05-08 08:37:12.000229: W external/org_tensorflow/tensorflow/compiler/xla/service/gpu/gpu_conv_algorithm_picker.cc:825] None of the algorithms provided by cuDNN heuristics worked; trying fallback algorithms.  Conv: (f32[163613,50,99]{2,1,0}, u8[0]{0}) custom-call(f32[163613,50,99]{2,1,0}, f32[50,50,5]{2,1,0}), window={size=5 pad=2_2}, dim_labels=bf0_oi0->bf0, custom_call_target=\"__cudnn$convForward\", backend_config=\"{\\\"conv_result_scale\\\":1,\\\"activation_mode\\\":\\\"0\\\",\\\"side_input_scale\\\":0}\"\n"
     ]
    },
    {
     "name": "stdout",
     "output_type": "stream",
     "text": [
      "RMSE : 77.7101 MAE  : 51.8836 NLL : 6.0344\n",
      "-------------------------------------------Iteration No:----------------------------------------- -> 6.3\n"
     ]
    },
    {
     "name": "stderr",
     "output_type": "stream",
     "text": [
      "/home/dhruv.patel/final_active/pos/retrain_fun.py:201: FutureWarning: The frame.append method is deprecated and will be removed from pandas in a future version. Use pandas.concat instead.\n",
      "  train = train.append(new_df)\n"
     ]
    },
    {
     "name": "stdout",
     "output_type": "stream",
     "text": [
      "Train houses are\n",
      "[7719 9019 2335 2361 7951  661 1642 8386]\n",
      "(221212, 99)\n"
     ]
    },
    {
     "name": "stderr",
     "output_type": "stream",
     "text": [
      "2023-05-08 08:37:34.617390: W external/org_tensorflow/tensorflow/compiler/xla/service/gpu/gpu_conv_algorithm_picker.cc:825] None of the algorithms provided by cuDNN heuristics worked; trying fallback algorithms.  Conv: (f32[221212,30,99]{2,1,0}, u8[0]{0}) custom-call(f32[221212,30,106]{2,1,0}, f32[30,30,8]{2,1,0}), window={size=8}, dim_labels=bf0_oi0->bf0, custom_call_target=\"__cudnn$convForward\", backend_config=\"{\\\"conv_result_scale\\\":1,\\\"activation_mode\\\":\\\"0\\\",\\\"side_input_scale\\\":0}\"\n",
      "2023-05-08 08:37:35.784241: W external/org_tensorflow/tensorflow/compiler/xla/service/gpu/gpu_conv_algorithm_picker.cc:825] None of the algorithms provided by cuDNN heuristics worked; trying fallback algorithms.  Conv: (f32[221212,40,99]{2,1,0}, u8[0]{0}) custom-call(f32[221212,30,104]{2,1,0}, f32[40,30,6]{2,1,0}), window={size=6}, dim_labels=bf0_oi0->bf0, custom_call_target=\"__cudnn$convForward\", backend_config=\"{\\\"conv_result_scale\\\":1,\\\"activation_mode\\\":\\\"0\\\",\\\"side_input_scale\\\":0}\"\n",
      "2023-05-08 08:37:37.176336: W external/org_tensorflow/tensorflow/compiler/xla/service/gpu/gpu_conv_algorithm_picker.cc:825] None of the algorithms provided by cuDNN heuristics worked; trying fallback algorithms.  Conv: (f32[221212,50,99]{2,1,0}, u8[0]{0}) custom-call(f32[221212,40,99]{2,1,0}, f32[50,40,5]{2,1,0}), window={size=5 pad=2_2}, dim_labels=bf0_oi0->bf0, custom_call_target=\"__cudnn$convForward\", backend_config=\"{\\\"conv_result_scale\\\":1,\\\"activation_mode\\\":\\\"0\\\",\\\"side_input_scale\\\":0}\"\n",
      "2023-05-08 08:37:38.686737: W external/org_tensorflow/tensorflow/compiler/xla/service/gpu/gpu_conv_algorithm_picker.cc:825] None of the algorithms provided by cuDNN heuristics worked; trying fallback algorithms.  Conv: (f32[221212,50,99]{2,1,0}, u8[0]{0}) custom-call(f32[221212,50,99]{2,1,0}, f32[50,50,5]{2,1,0}), window={size=5 pad=2_2}, dim_labels=bf0_oi0->bf0, custom_call_target=\"__cudnn$convForward\", backend_config=\"{\\\"conv_result_scale\\\":1,\\\"activation_mode\\\":\\\"0\\\",\\\"side_input_scale\\\":0}\"\n"
     ]
    },
    {
     "name": "stdout",
     "output_type": "stream",
     "text": [
      "RMSE : 92.0765 MAE  : 64.4093 NLL : 6.0167\n",
      "-------------------------------------------Iteration No:----------------------------------------- -> 6.4\n"
     ]
    },
    {
     "name": "stderr",
     "output_type": "stream",
     "text": [
      "/home/dhruv.patel/final_active/pos/retrain_fun.py:201: FutureWarning: The frame.append method is deprecated and will be removed from pandas in a future version. Use pandas.concat instead.\n",
      "  train = train.append(new_df)\n"
     ]
    },
    {
     "name": "stdout",
     "output_type": "stream",
     "text": [
      "Train houses are\n",
      "[7719 9019 2335 2361 7951  661 1642 8386 9160]\n",
      "(298971, 99)\n"
     ]
    },
    {
     "name": "stderr",
     "output_type": "stream",
     "text": [
      "2023-05-08 08:38:07.596684: W external/org_tensorflow/tensorflow/compiler/xla/service/gpu/gpu_conv_algorithm_picker.cc:825] None of the algorithms provided by cuDNN heuristics worked; trying fallback algorithms.  Conv: (f32[298971,30,99]{2,1,0}, u8[0]{0}) custom-call(f32[298971,30,106]{2,1,0}, f32[30,30,8]{2,1,0}), window={size=8}, dim_labels=bf0_oi0->bf0, custom_call_target=\"__cudnn$convForward\", backend_config=\"{\\\"conv_result_scale\\\":1,\\\"activation_mode\\\":\\\"0\\\",\\\"side_input_scale\\\":0}\"\n",
      "2023-05-08 08:38:09.126545: W external/org_tensorflow/tensorflow/compiler/xla/service/gpu/gpu_conv_algorithm_picker.cc:825] None of the algorithms provided by cuDNN heuristics worked; trying fallback algorithms.  Conv: (f32[298971,40,99]{2,1,0}, u8[0]{0}) custom-call(f32[298971,30,104]{2,1,0}, f32[40,30,6]{2,1,0}), window={size=6}, dim_labels=bf0_oi0->bf0, custom_call_target=\"__cudnn$convForward\", backend_config=\"{\\\"conv_result_scale\\\":1,\\\"activation_mode\\\":\\\"0\\\",\\\"side_input_scale\\\":0}\"\n",
      "2023-05-08 08:38:10.907958: W external/org_tensorflow/tensorflow/compiler/xla/service/gpu/gpu_conv_algorithm_picker.cc:825] None of the algorithms provided by cuDNN heuristics worked; trying fallback algorithms.  Conv: (f32[298971,50,99]{2,1,0}, u8[0]{0}) custom-call(f32[298971,40,99]{2,1,0}, f32[50,40,5]{2,1,0}), window={size=5 pad=2_2}, dim_labels=bf0_oi0->bf0, custom_call_target=\"__cudnn$convForward\", backend_config=\"{\\\"conv_result_scale\\\":1,\\\"activation_mode\\\":\\\"0\\\",\\\"side_input_scale\\\":0}\"\n",
      "2023-05-08 08:38:12.862563: W external/org_tensorflow/tensorflow/compiler/xla/service/gpu/gpu_conv_algorithm_picker.cc:825] None of the algorithms provided by cuDNN heuristics worked; trying fallback algorithms.  Conv: (f32[298971,50,99]{2,1,0}, u8[0]{0}) custom-call(f32[298971,50,99]{2,1,0}, f32[50,50,5]{2,1,0}), window={size=5 pad=2_2}, dim_labels=bf0_oi0->bf0, custom_call_target=\"__cudnn$convForward\", backend_config=\"{\\\"conv_result_scale\\\":1,\\\"activation_mode\\\":\\\"0\\\",\\\"side_input_scale\\\":0}\"\n"
     ]
    },
    {
     "name": "stdout",
     "output_type": "stream",
     "text": [
      "RMSE : nan MAE  : nan NLL : nan\n",
      "-------------------------------------------Iteration No:----------------------------------------- -> 6.5\n"
     ]
    },
    {
     "name": "stderr",
     "output_type": "stream",
     "text": [
      "/home/dhruv.patel/final_active/pos/retrain_fun.py:201: FutureWarning: The frame.append method is deprecated and will be removed from pandas in a future version. Use pandas.concat instead.\n",
      "  train = train.append(new_df)\n"
     ]
    },
    {
     "name": "stdout",
     "output_type": "stream",
     "text": [
      "Train houses are\n",
      "[7719 9019 2335 2361 7951  661 1642 8386 9160 9278]\n",
      "(370970, 99)\n"
     ]
    },
    {
     "name": "stderr",
     "output_type": "stream",
     "text": [
      "2023-05-08 08:38:49.387579: W external/org_tensorflow/tensorflow/compiler/xla/service/gpu/gpu_conv_algorithm_picker.cc:825] None of the algorithms provided by cuDNN heuristics worked; trying fallback algorithms.  Conv: (f32[370970,30,99]{2,1,0}, u8[0]{0}) custom-call(f32[370970,30,106]{2,1,0}, f32[30,30,8]{2,1,0}), window={size=8}, dim_labels=bf0_oi0->bf0, custom_call_target=\"__cudnn$convForward\", backend_config=\"{\\\"conv_result_scale\\\":1,\\\"activation_mode\\\":\\\"0\\\",\\\"side_input_scale\\\":0}\"\n",
      "2023-05-08 08:38:51.263711: W external/org_tensorflow/tensorflow/compiler/xla/service/gpu/gpu_conv_algorithm_picker.cc:825] None of the algorithms provided by cuDNN heuristics worked; trying fallback algorithms.  Conv: (f32[370970,40,99]{2,1,0}, u8[0]{0}) custom-call(f32[370970,30,104]{2,1,0}, f32[40,30,6]{2,1,0}), window={size=6}, dim_labels=bf0_oi0->bf0, custom_call_target=\"__cudnn$convForward\", backend_config=\"{\\\"conv_result_scale\\\":1,\\\"activation_mode\\\":\\\"0\\\",\\\"side_input_scale\\\":0}\"\n",
      "2023-05-08 08:38:53.416381: W external/org_tensorflow/tensorflow/compiler/xla/service/gpu/gpu_conv_algorithm_picker.cc:825] None of the algorithms provided by cuDNN heuristics worked; trying fallback algorithms.  Conv: (f32[370970,50,99]{2,1,0}, u8[0]{0}) custom-call(f32[370970,40,99]{2,1,0}, f32[50,40,5]{2,1,0}), window={size=5 pad=2_2}, dim_labels=bf0_oi0->bf0, custom_call_target=\"__cudnn$convForward\", backend_config=\"{\\\"conv_result_scale\\\":1,\\\"activation_mode\\\":\\\"0\\\",\\\"side_input_scale\\\":0}\"\n",
      "2023-05-08 08:38:55.814869: W external/org_tensorflow/tensorflow/compiler/xla/service/gpu/gpu_conv_algorithm_picker.cc:825] None of the algorithms provided by cuDNN heuristics worked; trying fallback algorithms.  Conv: (f32[370970,50,99]{2,1,0}, u8[0]{0}) custom-call(f32[370970,50,99]{2,1,0}, f32[50,50,5]{2,1,0}), window={size=5 pad=2_2}, dim_labels=bf0_oi0->bf0, custom_call_target=\"__cudnn$convForward\", backend_config=\"{\\\"conv_result_scale\\\":1,\\\"activation_mode\\\":\\\"0\\\",\\\"side_input_scale\\\":0}\"\n"
     ]
    },
    {
     "name": "stdout",
     "output_type": "stream",
     "text": [
      "RMSE : 83.6715 MAE  : 61.7379 NLL : 5.8491\n",
      "-------------------------------------------Iteration No:----------------------------------------- -> 6.6\n"
     ]
    },
    {
     "name": "stderr",
     "output_type": "stream",
     "text": [
      "/home/dhruv.patel/final_active/pos/retrain_fun.py:201: FutureWarning: The frame.append method is deprecated and will be removed from pandas in a future version. Use pandas.concat instead.\n",
      "  train = train.append(new_df)\n"
     ]
    },
    {
     "name": "stdout",
     "output_type": "stream",
     "text": [
      "Train houses are\n",
      "[7719 9019 2335 2361 7951  661 1642 8386 9160 9278 5746]\n",
      "(447709, 99)\n"
     ]
    },
    {
     "name": "stderr",
     "output_type": "stream",
     "text": [
      "2023-05-08 08:39:39.645858: W external/org_tensorflow/tensorflow/compiler/xla/service/gpu/gpu_conv_algorithm_picker.cc:825] None of the algorithms provided by cuDNN heuristics worked; trying fallback algorithms.  Conv: (f32[447709,30,99]{2,1,0}, u8[0]{0}) custom-call(f32[447709,30,106]{2,1,0}, f32[30,30,8]{2,1,0}), window={size=8}, dim_labels=bf0_oi0->bf0, custom_call_target=\"__cudnn$convForward\", backend_config=\"{\\\"conv_result_scale\\\":1,\\\"activation_mode\\\":\\\"0\\\",\\\"side_input_scale\\\":0}\"\n",
      "2023-05-08 08:39:41.878227: W external/org_tensorflow/tensorflow/compiler/xla/service/gpu/gpu_conv_algorithm_picker.cc:825] None of the algorithms provided by cuDNN heuristics worked; trying fallback algorithms.  Conv: (f32[447709,40,99]{2,1,0}, u8[0]{0}) custom-call(f32[447709,30,104]{2,1,0}, f32[40,30,6]{2,1,0}), window={size=6}, dim_labels=bf0_oi0->bf0, custom_call_target=\"__cudnn$convForward\", backend_config=\"{\\\"conv_result_scale\\\":1,\\\"activation_mode\\\":\\\"0\\\",\\\"side_input_scale\\\":0}\"\n"
     ]
    },
    {
     "name": "stdout",
     "output_type": "stream",
     "text": [
      "RMSE : 83.7187 MAE  : 62.5734 NLL : 5.8500\n",
      "-------------------------------------------Iteration No:----------------------------------------- -> 6.7\n"
     ]
    },
    {
     "name": "stderr",
     "output_type": "stream",
     "text": [
      "/home/dhruv.patel/final_active/pos/retrain_fun.py:201: FutureWarning: The frame.append method is deprecated and will be removed from pandas in a future version. Use pandas.concat instead.\n",
      "  train = train.append(new_df)\n"
     ]
    },
    {
     "name": "stdout",
     "output_type": "stream",
     "text": [
      "Train houses are\n",
      "[7719 9019 2335 2361 7951  661 1642 8386 9160 9278 5746 7536]\n",
      "(534093, 99)\n"
     ]
    },
    {
     "name": "stderr",
     "output_type": "stream",
     "text": [
      "2023-05-08 08:40:39.221015: W external/org_tensorflow/tensorflow/compiler/xla/service/gpu/gpu_conv_algorithm_picker.cc:825] None of the algorithms provided by cuDNN heuristics worked; trying fallback algorithms.  Conv: (f32[534093,30,99]{2,1,0}, u8[0]{0}) custom-call(f32[534093,30,106]{2,1,0}, f32[30,30,8]{2,1,0}), window={size=8}, dim_labels=bf0_oi0->bf0, custom_call_target=\"__cudnn$convForward\", backend_config=\"{\\\"conv_result_scale\\\":1,\\\"activation_mode\\\":\\\"0\\\",\\\"side_input_scale\\\":0}\"\n",
      "2023-05-08 08:40:41.855053: W external/org_tensorflow/tensorflow/compiler/xla/service/gpu/gpu_conv_algorithm_picker.cc:825] None of the algorithms provided by cuDNN heuristics worked; trying fallback algorithms.  Conv: (f32[534093,40,99]{2,1,0}, u8[0]{0}) custom-call(f32[534093,30,104]{2,1,0}, f32[40,30,6]{2,1,0}), window={size=6}, dim_labels=bf0_oi0->bf0, custom_call_target=\"__cudnn$convForward\", backend_config=\"{\\\"conv_result_scale\\\":1,\\\"activation_mode\\\":\\\"0\\\",\\\"side_input_scale\\\":0}\"\n"
     ]
    },
    {
     "name": "stdout",
     "output_type": "stream",
     "text": [
      "RMSE : 83.6703 MAE  : 61.8195 NLL : 5.8513\n",
      "-------------------------------------------Iteration No:----------------------------------------- -> 6.8\n"
     ]
    },
    {
     "name": "stderr",
     "output_type": "stream",
     "text": [
      "/home/dhruv.patel/final_active/pos/retrain_fun.py:201: FutureWarning: The frame.append method is deprecated and will be removed from pandas in a future version. Use pandas.concat instead.\n",
      "  train = train.append(new_df)\n"
     ]
    },
    {
     "name": "stdout",
     "output_type": "stream",
     "text": [
      "Train houses are\n",
      "[7719 9019 2335 2361 7951  661 1642 8386 9160 9278 5746 7536 8156]\n",
      "(627692, 99)\n"
     ]
    },
    {
     "name": "stderr",
     "output_type": "stream",
     "text": [
      "2023-05-08 08:41:49.313831: W external/org_tensorflow/tensorflow/compiler/xla/service/gpu/gpu_conv_algorithm_picker.cc:825] None of the algorithms provided by cuDNN heuristics worked; trying fallback algorithms.  Conv: (f32[627692,30,99]{2,1,0}, u8[0]{0}) custom-call(f32[627692,30,106]{2,1,0}, f32[30,30,8]{2,1,0}), window={size=8}, dim_labels=bf0_oi0->bf0, custom_call_target=\"__cudnn$convForward\", backend_config=\"{\\\"conv_result_scale\\\":1,\\\"activation_mode\\\":\\\"0\\\",\\\"side_input_scale\\\":0}\"\n",
      "2023-05-08 08:41:52.385351: W external/org_tensorflow/tensorflow/compiler/xla/service/gpu/gpu_conv_algorithm_picker.cc:825] None of the algorithms provided by cuDNN heuristics worked; trying fallback algorithms.  Conv: (f32[627692,40,99]{2,1,0}, u8[0]{0}) custom-call(f32[627692,30,104]{2,1,0}, f32[40,30,6]{2,1,0}), window={size=6}, dim_labels=bf0_oi0->bf0, custom_call_target=\"__cudnn$convForward\", backend_config=\"{\\\"conv_result_scale\\\":1,\\\"activation_mode\\\":\\\"0\\\",\\\"side_input_scale\\\":0}\"\n"
     ]
    },
    {
     "name": "stdout",
     "output_type": "stream",
     "text": [
      "RMSE : nan MAE  : nan NLL : nan\n",
      "-------------------------------------------Iteration No:----------------------------------------- -> 6.9\n"
     ]
    },
    {
     "name": "stderr",
     "output_type": "stream",
     "text": [
      "/home/dhruv.patel/final_active/pos/retrain_fun.py:201: FutureWarning: The frame.append method is deprecated and will be removed from pandas in a future version. Use pandas.concat instead.\n",
      "  train = train.append(new_df)\n"
     ]
    },
    {
     "name": "stdout",
     "output_type": "stream",
     "text": [
      "Train houses are\n",
      "[7719 9019 2335 2361 7951  661 1642 8386 9160 9278 5746 7536 8156 8565]\n",
      "(728491, 99)\n"
     ]
    },
    {
     "name": "stderr",
     "output_type": "stream",
     "text": [
      "2023-05-08 08:43:13.707928: W external/org_tensorflow/tensorflow/compiler/xla/service/gpu/gpu_conv_algorithm_picker.cc:825] None of the algorithms provided by cuDNN heuristics worked; trying fallback algorithms.  Conv: (f32[728491,40,99]{2,1,0}, u8[0]{0}) custom-call(f32[728491,30,104]{2,1,0}, f32[40,30,6]{2,1,0}), window={size=6}, dim_labels=bf0_oi0->bf0, custom_call_target=\"__cudnn$convForward\", backend_config=\"{\\\"conv_result_scale\\\":1,\\\"activation_mode\\\":\\\"0\\\",\\\"side_input_scale\\\":0}\"\n"
     ]
    },
    {
     "name": "stdout",
     "output_type": "stream",
     "text": [
      "RMSE : 83.6704 MAE  : 61.8090 NLL : 5.8513\n",
      "############################################Random iteration number#################################### : 8\n",
      "I am pool houses picck [5746, 8565, 9278, 8156, 8386, 9160, 661, 1642, 7536, 7800]\n",
      "-------------------------------------------Iteration No:----------------------------------------- -> 7.0\n",
      "RMSE : 74.6309 MAE  : 44.3787 NLL : 6.1706\n",
      "I am random house id = 7800\n",
      "I am pool houses [5746, 8565, 9278, 8156, 8386, 9160, 661, 1642, 7536, 7800]\n",
      "(array([9]),)\n",
      "[9]\n",
      "9\n",
      "-------------------------------------------Iteration No:----------------------------------------- -> 7.1\n"
     ]
    },
    {
     "name": "stderr",
     "output_type": "stream",
     "text": [
      "/home/dhruv.patel/final_active/pos/retrain_fun.py:201: FutureWarning: The frame.append method is deprecated and will be removed from pandas in a future version. Use pandas.concat instead.\n",
      "  train = train.append(new_df)\n"
     ]
    },
    {
     "name": "stdout",
     "output_type": "stream",
     "text": [
      "Train houses are\n",
      "[7719 9019 2335 2361 7951 7800]\n",
      "(113214, 99)\n",
      "RMSE : 67.3943 MAE  : 35.0053 NLL : 5.1451\n",
      "-------------------------------------------Iteration No:----------------------------------------- -> 7.2\n"
     ]
    },
    {
     "name": "stderr",
     "output_type": "stream",
     "text": [
      "/home/dhruv.patel/final_active/pos/retrain_fun.py:201: FutureWarning: The frame.append method is deprecated and will be removed from pandas in a future version. Use pandas.concat instead.\n",
      "  train = train.append(new_df)\n"
     ]
    },
    {
     "name": "stdout",
     "output_type": "stream",
     "text": [
      "Train houses are\n",
      "[7719 9019 2335 2361 7951 7800 9278]\n",
      "(163613, 99)\n",
      "RMSE : 71.2296 MAE  : 39.5769 NLL : 5.5170\n",
      "-------------------------------------------Iteration No:----------------------------------------- -> 7.3\n"
     ]
    },
    {
     "name": "stderr",
     "output_type": "stream",
     "text": [
      "/home/dhruv.patel/final_active/pos/retrain_fun.py:201: FutureWarning: The frame.append method is deprecated and will be removed from pandas in a future version. Use pandas.concat instead.\n",
      "  train = train.append(new_df)\n"
     ]
    },
    {
     "name": "stdout",
     "output_type": "stream",
     "text": [
      "Train houses are\n",
      "[7719 9019 2335 2361 7951 7800 9278 1642]\n",
      "(221212, 99)\n",
      "RMSE : 66.6836 MAE  : 33.0349 NLL : 7.9521\n",
      "-------------------------------------------Iteration No:----------------------------------------- -> 7.4\n"
     ]
    },
    {
     "name": "stderr",
     "output_type": "stream",
     "text": [
      "/home/dhruv.patel/final_active/pos/retrain_fun.py:201: FutureWarning: The frame.append method is deprecated and will be removed from pandas in a future version. Use pandas.concat instead.\n",
      "  train = train.append(new_df)\n"
     ]
    },
    {
     "name": "stdout",
     "output_type": "stream",
     "text": [
      "Train houses are\n",
      "[7719 9019 2335 2361 7951 7800 9278 1642 5746]\n",
      "(296691, 99)\n"
     ]
    },
    {
     "name": "stderr",
     "output_type": "stream",
     "text": [
      "2023-05-08 08:45:49.503828: W external/org_tensorflow/tensorflow/compiler/xla/service/gpu/gpu_conv_algorithm_picker.cc:825] None of the algorithms provided by cuDNN heuristics worked; trying fallback algorithms.  Conv: (f32[296691,30,99]{2,1,0}, u8[0]{0}) custom-call(f32[296691,30,106]{2,1,0}, f32[30,30,8]{2,1,0}), window={size=8}, dim_labels=bf0_oi0->bf0, custom_call_target=\"__cudnn$convForward\", backend_config=\"{\\\"conv_result_scale\\\":1,\\\"activation_mode\\\":\\\"0\\\",\\\"side_input_scale\\\":0}\"\n",
      "2023-05-08 08:45:51.033659: W external/org_tensorflow/tensorflow/compiler/xla/service/gpu/gpu_conv_algorithm_picker.cc:825] None of the algorithms provided by cuDNN heuristics worked; trying fallback algorithms.  Conv: (f32[296691,40,99]{2,1,0}, u8[0]{0}) custom-call(f32[296691,30,104]{2,1,0}, f32[40,30,6]{2,1,0}), window={size=6}, dim_labels=bf0_oi0->bf0, custom_call_target=\"__cudnn$convForward\", backend_config=\"{\\\"conv_result_scale\\\":1,\\\"activation_mode\\\":\\\"0\\\",\\\"side_input_scale\\\":0}\"\n",
      "2023-05-08 08:45:52.817908: W external/org_tensorflow/tensorflow/compiler/xla/service/gpu/gpu_conv_algorithm_picker.cc:825] None of the algorithms provided by cuDNN heuristics worked; trying fallback algorithms.  Conv: (f32[296691,50,99]{2,1,0}, u8[0]{0}) custom-call(f32[296691,40,99]{2,1,0}, f32[50,40,5]{2,1,0}), window={size=5 pad=2_2}, dim_labels=bf0_oi0->bf0, custom_call_target=\"__cudnn$convForward\", backend_config=\"{\\\"conv_result_scale\\\":1,\\\"activation_mode\\\":\\\"0\\\",\\\"side_input_scale\\\":0}\"\n",
      "2023-05-08 08:45:54.762961: W external/org_tensorflow/tensorflow/compiler/xla/service/gpu/gpu_conv_algorithm_picker.cc:825] None of the algorithms provided by cuDNN heuristics worked; trying fallback algorithms.  Conv: (f32[296691,50,99]{2,1,0}, u8[0]{0}) custom-call(f32[296691,50,99]{2,1,0}, f32[50,50,5]{2,1,0}), window={size=5 pad=2_2}, dim_labels=bf0_oi0->bf0, custom_call_target=\"__cudnn$convForward\", backend_config=\"{\\\"conv_result_scale\\\":1,\\\"activation_mode\\\":\\\"0\\\",\\\"side_input_scale\\\":0}\"\n"
     ]
    },
    {
     "name": "stdout",
     "output_type": "stream",
     "text": [
      "RMSE : 72.1948 MAE  : 44.6355 NLL : 6.5322\n",
      "-------------------------------------------Iteration No:----------------------------------------- -> 7.5\n"
     ]
    },
    {
     "name": "stderr",
     "output_type": "stream",
     "text": [
      "/home/dhruv.patel/final_active/pos/retrain_fun.py:201: FutureWarning: The frame.append method is deprecated and will be removed from pandas in a future version. Use pandas.concat instead.\n",
      "  train = train.append(new_df)\n"
     ]
    },
    {
     "name": "stdout",
     "output_type": "stream",
     "text": [
      "Train houses are\n",
      "[7719 9019 2335 2361 7951 7800 9278 1642 5746 7536]\n",
      "(368690, 99)\n"
     ]
    },
    {
     "name": "stderr",
     "output_type": "stream",
     "text": [
      "2023-05-08 08:46:30.967574: W external/org_tensorflow/tensorflow/compiler/xla/service/gpu/gpu_conv_algorithm_picker.cc:825] None of the algorithms provided by cuDNN heuristics worked; trying fallback algorithms.  Conv: (f32[368690,30,99]{2,1,0}, u8[0]{0}) custom-call(f32[368690,30,106]{2,1,0}, f32[30,30,8]{2,1,0}), window={size=8}, dim_labels=bf0_oi0->bf0, custom_call_target=\"__cudnn$convForward\", backend_config=\"{\\\"conv_result_scale\\\":1,\\\"activation_mode\\\":\\\"0\\\",\\\"side_input_scale\\\":0}\"\n",
      "2023-05-08 08:46:32.844227: W external/org_tensorflow/tensorflow/compiler/xla/service/gpu/gpu_conv_algorithm_picker.cc:825] None of the algorithms provided by cuDNN heuristics worked; trying fallback algorithms.  Conv: (f32[368690,40,99]{2,1,0}, u8[0]{0}) custom-call(f32[368690,30,104]{2,1,0}, f32[40,30,6]{2,1,0}), window={size=6}, dim_labels=bf0_oi0->bf0, custom_call_target=\"__cudnn$convForward\", backend_config=\"{\\\"conv_result_scale\\\":1,\\\"activation_mode\\\":\\\"0\\\",\\\"side_input_scale\\\":0}\"\n",
      "2023-05-08 08:46:35.000579: W external/org_tensorflow/tensorflow/compiler/xla/service/gpu/gpu_conv_algorithm_picker.cc:825] None of the algorithms provided by cuDNN heuristics worked; trying fallback algorithms.  Conv: (f32[368690,50,99]{2,1,0}, u8[0]{0}) custom-call(f32[368690,40,99]{2,1,0}, f32[50,40,5]{2,1,0}), window={size=5 pad=2_2}, dim_labels=bf0_oi0->bf0, custom_call_target=\"__cudnn$convForward\", backend_config=\"{\\\"conv_result_scale\\\":1,\\\"activation_mode\\\":\\\"0\\\",\\\"side_input_scale\\\":0}\"\n",
      "2023-05-08 08:46:37.378384: W external/org_tensorflow/tensorflow/compiler/xla/service/gpu/gpu_conv_algorithm_picker.cc:825] None of the algorithms provided by cuDNN heuristics worked; trying fallback algorithms.  Conv: (f32[368690,50,99]{2,1,0}, u8[0]{0}) custom-call(f32[368690,50,99]{2,1,0}, f32[50,50,5]{2,1,0}), window={size=5 pad=2_2}, dim_labels=bf0_oi0->bf0, custom_call_target=\"__cudnn$convForward\", backend_config=\"{\\\"conv_result_scale\\\":1,\\\"activation_mode\\\":\\\"0\\\",\\\"side_input_scale\\\":0}\"\n"
     ]
    },
    {
     "name": "stdout",
     "output_type": "stream",
     "text": [
      "RMSE : 415.0802 MAE  : 408.0327 NLL : 8.2613\n",
      "-------------------------------------------Iteration No:----------------------------------------- -> 7.6\n"
     ]
    },
    {
     "name": "stderr",
     "output_type": "stream",
     "text": [
      "/home/dhruv.patel/final_active/pos/retrain_fun.py:201: FutureWarning: The frame.append method is deprecated and will be removed from pandas in a future version. Use pandas.concat instead.\n",
      "  train = train.append(new_df)\n"
     ]
    },
    {
     "name": "stdout",
     "output_type": "stream",
     "text": [
      "Train houses are\n",
      "[7719 9019 2335 2361 7951 7800 9278 1642 5746 7536 8156]\n",
      "(446269, 99)\n"
     ]
    },
    {
     "name": "stderr",
     "output_type": "stream",
     "text": [
      "2023-05-08 08:47:21.085116: W external/org_tensorflow/tensorflow/compiler/xla/service/gpu/gpu_conv_algorithm_picker.cc:825] None of the algorithms provided by cuDNN heuristics worked; trying fallback algorithms.  Conv: (f32[446269,30,99]{2,1,0}, u8[0]{0}) custom-call(f32[446269,30,106]{2,1,0}, f32[30,30,8]{2,1,0}), window={size=8}, dim_labels=bf0_oi0->bf0, custom_call_target=\"__cudnn$convForward\", backend_config=\"{\\\"conv_result_scale\\\":1,\\\"activation_mode\\\":\\\"0\\\",\\\"side_input_scale\\\":0}\"\n",
      "2023-05-08 08:47:23.303337: W external/org_tensorflow/tensorflow/compiler/xla/service/gpu/gpu_conv_algorithm_picker.cc:825] None of the algorithms provided by cuDNN heuristics worked; trying fallback algorithms.  Conv: (f32[446269,40,99]{2,1,0}, u8[0]{0}) custom-call(f32[446269,30,104]{2,1,0}, f32[40,30,6]{2,1,0}), window={size=6}, dim_labels=bf0_oi0->bf0, custom_call_target=\"__cudnn$convForward\", backend_config=\"{\\\"conv_result_scale\\\":1,\\\"activation_mode\\\":\\\"0\\\",\\\"side_input_scale\\\":0}\"\n"
     ]
    },
    {
     "name": "stdout",
     "output_type": "stream",
     "text": [
      "RMSE : nan MAE  : nan NLL : nan\n",
      "-------------------------------------------Iteration No:----------------------------------------- -> 7.7\n"
     ]
    },
    {
     "name": "stderr",
     "output_type": "stream",
     "text": [
      "/home/dhruv.patel/final_active/pos/retrain_fun.py:201: FutureWarning: The frame.append method is deprecated and will be removed from pandas in a future version. Use pandas.concat instead.\n",
      "  train = train.append(new_df)\n"
     ]
    },
    {
     "name": "stdout",
     "output_type": "stream",
     "text": [
      "Train houses are\n",
      "[7719 9019 2335 2361 7951 7800 9278 1642 5746 7536 8156 9160]\n",
      "(532653, 99)\n"
     ]
    },
    {
     "name": "stderr",
     "output_type": "stream",
     "text": [
      "2023-05-08 08:48:19.736792: W external/org_tensorflow/tensorflow/compiler/xla/service/gpu/gpu_conv_algorithm_picker.cc:825] None of the algorithms provided by cuDNN heuristics worked; trying fallback algorithms.  Conv: (f32[532653,30,99]{2,1,0}, u8[0]{0}) custom-call(f32[532653,30,106]{2,1,0}, f32[30,30,8]{2,1,0}), window={size=8}, dim_labels=bf0_oi0->bf0, custom_call_target=\"__cudnn$convForward\", backend_config=\"{\\\"conv_result_scale\\\":1,\\\"activation_mode\\\":\\\"0\\\",\\\"side_input_scale\\\":0}\"\n",
      "2023-05-08 08:48:22.363824: W external/org_tensorflow/tensorflow/compiler/xla/service/gpu/gpu_conv_algorithm_picker.cc:825] None of the algorithms provided by cuDNN heuristics worked; trying fallback algorithms.  Conv: (f32[532653,40,99]{2,1,0}, u8[0]{0}) custom-call(f32[532653,30,104]{2,1,0}, f32[40,30,6]{2,1,0}), window={size=6}, dim_labels=bf0_oi0->bf0, custom_call_target=\"__cudnn$convForward\", backend_config=\"{\\\"conv_result_scale\\\":1,\\\"activation_mode\\\":\\\"0\\\",\\\"side_input_scale\\\":0}\"\n"
     ]
    },
    {
     "name": "stdout",
     "output_type": "stream",
     "text": [
      "RMSE : 65.3426 MAE  : 32.7529 NLL : 5.4334\n",
      "-------------------------------------------Iteration No:----------------------------------------- -> 7.8\n"
     ]
    },
    {
     "name": "stderr",
     "output_type": "stream",
     "text": [
      "/home/dhruv.patel/final_active/pos/retrain_fun.py:201: FutureWarning: The frame.append method is deprecated and will be removed from pandas in a future version. Use pandas.concat instead.\n",
      "  train = train.append(new_df)\n"
     ]
    },
    {
     "name": "stdout",
     "output_type": "stream",
     "text": [
      "Train houses are\n",
      "[7719 9019 2335 2361 7951 7800 9278 1642 5746 7536 8156 9160 8565]\n",
      "(626252, 99)\n"
     ]
    },
    {
     "name": "stderr",
     "output_type": "stream",
     "text": [
      "2023-05-08 08:49:29.681369: W external/org_tensorflow/tensorflow/compiler/xla/service/gpu/gpu_conv_algorithm_picker.cc:825] None of the algorithms provided by cuDNN heuristics worked; trying fallback algorithms.  Conv: (f32[626252,30,99]{2,1,0}, u8[0]{0}) custom-call(f32[626252,30,106]{2,1,0}, f32[30,30,8]{2,1,0}), window={size=8}, dim_labels=bf0_oi0->bf0, custom_call_target=\"__cudnn$convForward\", backend_config=\"{\\\"conv_result_scale\\\":1,\\\"activation_mode\\\":\\\"0\\\",\\\"side_input_scale\\\":0}\"\n",
      "2023-05-08 08:49:32.743569: W external/org_tensorflow/tensorflow/compiler/xla/service/gpu/gpu_conv_algorithm_picker.cc:825] None of the algorithms provided by cuDNN heuristics worked; trying fallback algorithms.  Conv: (f32[626252,40,99]{2,1,0}, u8[0]{0}) custom-call(f32[626252,30,104]{2,1,0}, f32[40,30,6]{2,1,0}), window={size=6}, dim_labels=bf0_oi0->bf0, custom_call_target=\"__cudnn$convForward\", backend_config=\"{\\\"conv_result_scale\\\":1,\\\"activation_mode\\\":\\\"0\\\",\\\"side_input_scale\\\":0}\"\n"
     ]
    },
    {
     "name": "stdout",
     "output_type": "stream",
     "text": [
      "RMSE : nan MAE  : nan NLL : nan\n",
      "-------------------------------------------Iteration No:----------------------------------------- -> 7.9\n"
     ]
    },
    {
     "name": "stderr",
     "output_type": "stream",
     "text": [
      "/home/dhruv.patel/final_active/pos/retrain_fun.py:201: FutureWarning: The frame.append method is deprecated and will be removed from pandas in a future version. Use pandas.concat instead.\n",
      "  train = train.append(new_df)\n"
     ]
    },
    {
     "name": "stdout",
     "output_type": "stream",
     "text": [
      "Train houses are\n",
      "[7719 9019 2335 2361 7951 7800 9278 1642 5746 7536 8156 9160 8565 8386]\n",
      "(727051, 99)\n"
     ]
    },
    {
     "name": "stderr",
     "output_type": "stream",
     "text": [
      "2023-05-08 08:50:53.607558: W external/org_tensorflow/tensorflow/compiler/xla/service/gpu/gpu_conv_algorithm_picker.cc:825] None of the algorithms provided by cuDNN heuristics worked; trying fallback algorithms.  Conv: (f32[727051,40,99]{2,1,0}, u8[0]{0}) custom-call(f32[727051,30,104]{2,1,0}, f32[40,30,6]{2,1,0}), window={size=6}, dim_labels=bf0_oi0->bf0, custom_call_target=\"__cudnn$convForward\", backend_config=\"{\\\"conv_result_scale\\\":1,\\\"activation_mode\\\":\\\"0\\\",\\\"side_input_scale\\\":0}\"\n"
     ]
    },
    {
     "name": "stdout",
     "output_type": "stream",
     "text": [
      "RMSE : 81.1468 MAE  : 60.9222 NLL : 5.8645\n"
     ]
    },
    {
     "data": {
      "image/png": "[encoded data removed]",
      "text/plain": [
       "<Figure size 640x480 with 1 Axes>"
      ]
     },
     "metadata": {},
     "output_type": "display_data"
    }
   ],
   "source": [
    "total_rmse=[]\n",
    "houseids=[]\n",
    "\n",
    "all_rmses = dict()\n",
    "all_maes = dict() \n",
    "all_preds = dict() \n",
    "\n",
    "iteration_number = f'{start}_{end}_iterations'\n",
    "\n",
    "print(f\"STARTING FOR {appliance}, FOR ITERATIONS - {start} to {end}\")\n",
    "\n",
    "for i in range(start,end): #total 10 iterations\n",
    "\n",
    "    print(f\"############################################Random iteration number#################################### : {i+1}\")\n",
    "\n",
    "    train_houses = all_appliance_train_lists[appliance][0] \n",
    "    test_houses = all_appliance_test_lists[appliance][0] \n",
    "    pool_houses = all_appliance_pool_lists[appliance][0] \n",
    "\n",
    "    print(f\"I am pool houses picck {pool_houses}\")\n",
    "    \n",
    "    \n",
    "    train = data_aggregated[data_aggregated[\"dataid\"].isin(train_houses)] \n",
    "    test = data_aggregated[data_aggregated[\"dataid\"].isin(test_houses)]\n",
    "\n",
    "    all_rmses[i] = []\n",
    "    all_maes[i] = []\n",
    "    all_preds[i] = []\n",
    "    \n",
    "    houses=[]\n",
    "\n",
    "    start= [\"2018-03-01 00:00:00-06\",\"2018-03-11 00:00:00-06\",\"2018-03-16 00:00:00-06\",\"2018-03-21 00:00:00-06\",\"2018-03-26 00:00:00-06\",\"2018-04-01 00:00:00-06\", \"2018-04-06 00:00:00-06\", \"2018-04-11 00:00:00-06\", \"2018-04-16 00:00:00-06\", \"2018-04-21 00:00:00-06\"]\n",
    "    end=   [\"2018-03-10 23:59:00-06\",\"2018-03-15 23:59:00-06\",\"2018-03-20 23:59:00-06\",\"2018-03-25 23:59:00-06\",\"2018-03-31 23:59:00-06\",\"2018-04-05 23:59:00-06\", \"2018-04-10 23:59:00-06\", \"2018-04-15 23:59:00-06\", \"2018-04-20 23:59:00-06\", \"2018-04-25 23:59:00-06\"]\n",
    "    \n",
    "    for j in range(len(start)):\n",
    "        \n",
    "        \n",
    "        print(f\"-------------------------------------------Iteration No:----------------------------------------- -> {i}.{j}\")\n",
    "\n",
    "        if(j==0):\n",
    "            rmsee, maes, train, test,current_pred = retrain_random(0, start[j], end[j], pool_houses, train, test,appliance, data_aggregated)\n",
    "            all_rmses[i].append(rmsee.item())\n",
    "            all_maes[i].append(maes.item())\n",
    "            all_preds[i].append(current_pred)\n",
    "\n",
    "            random_house_id = random_picks[appliance][i][j]\n",
    "            print(f\"I am random house id = {random_house_id}\")\n",
    "            print(f\"I am pool houses {pool_houses}\")\n",
    "            print(f\"{np.where(np.array(pool_houses)==random_house_id)}\")\n",
    "            print(f\"{np.where(np.array(pool_houses)==random_house_id)[0]}\")\n",
    "            print(f\"{np.where(np.array(pool_houses)==random_house_id)[0][0]}\")\n",
    "            random_house_index = np.where(np.array(pool_houses)==random_house_id)[0][0]  \n",
    "\n",
    "            houses.append(random_house_id)\n",
    "            pool_houses= np.delete(pool_houses, random_house_index)\n",
    "            # break #REMOVE AT THE END\n",
    "\n",
    "        elif(j==10):\n",
    "            rmsee, maes, train, test,current_pred = retrain_random(random_house_id, start[j], end[j], pool_houses, train, test,appliance, data_aggregated)\n",
    "            all_rmses[i].append(rmsee.item())\n",
    "            all_maes[i].append(maes.item())\n",
    "            all_preds[i].append(current_pred)\n",
    "\n",
    "        else:\n",
    "            rmsee, maes, train, test,current_pred = retrain_random(random_house_id, start[j], end[j], pool_houses, train, test,appliance, data_aggregated)\n",
    "            all_rmses[i].append(rmsee.item())\n",
    "            all_maes[i].append(maes.item())\n",
    "            all_preds[i].append(current_pred)\n",
    "\n",
    "            random_house_id = random_picks[appliance][i][j]\n",
    "            \n",
    "            random_house_index = np.where(np.array(pool_houses)==random_house_id)[0][0]  \n",
    "            \n",
    "            houses.append(random_house_id)\n",
    "            pool_houses= np.delete(pool_houses, random_house_index)\n",
    "        \n",
    "        \n",
    "    # total_rmse.append(rmse_iter)\n",
    "    houseids.append(houses)\n",
    "    \n",
    "    # if i not in all_rmses:\n",
    "    #     all_rmses[i] = total_rmse\n",
    "\n",
    "\n"
   ]
  },
  {
   "cell_type": "code",
   "execution_count": 11,
   "metadata": {},
   "outputs": [],
   "source": [
    "name_of_file_rmses = \"random\"+\"_\"+str(iteration_number) + \"RMSES\"+\".csv\"\n",
    "name_of_file_maes = \"random\"+\"_\"+str(iteration_number) + \"MAES\"+\".csv\"\n",
    "# name_of_file_preds = str(random)+\"_\"+str(iteration_number)+\"PREDS\"+\".csv\"\n",
    "\n",
    "if not os.path.exists(f'{appliance}'):\n",
    "    os.mkdir(f'{appliance}')\n",
    "\n",
    "# Save the DataFrame to a CSV file\n",
    "pd.DataFrame(all_rmses).to_csv(os.path.join(f'{appliance}', f'{name_of_file_rmses}'), index=False)\n",
    "pd.DataFrame(all_maes).to_csv(os.path.join(f'{appliance}', f'{name_of_file_maes}'), index=False)\n",
    "# pd.DataFrame(all_preds).to_csv(os.path.join(f'{appliance}', f'{name_of_file_preds}'), index=False)"
   ]
  },
  {
   "cell_type": "code",
   "execution_count": null,
   "metadata": {},
   "outputs": [],
   "source": []
  },
  {
   "cell_type": "code",
   "execution_count": null,
   "metadata": {},
   "outputs": [],
   "source": []
  }
 ],
 "metadata": {
  "kernelspec": {
   "display_name": "active_NILM",
   "language": "python",
   "name": "active_nilm"
  },
  "language_info": {
   "codemirror_mode": {
    "name": "ipython",
    "version": 3
   },
   "file_extension": ".py",
   "mimetype": "text/x-python",
   "name": "python",
   "nbconvert_exporter": "python",
   "pygments_lexer": "ipython3",
   "version": "3.9.16"
  },
  "orig_nbformat": 4,
  "vscode": {
   "interpreter": {
    "hash": "75c1c98696c4814732cab827a231cf1174f0dd387efb82018a511256a89041d9"
   }
  }
 },
 "nbformat": 4,
 "nbformat_minor": 2
}
